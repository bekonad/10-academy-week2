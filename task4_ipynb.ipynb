{
  "nbformat": 4,
  "nbformat_minor": 0,
  "metadata": {
    "colab": {
      "provenance": [],
      "authorship_tag": "ABX9TyMTzgHtljDbIdSmv9EebovA"
    },
    "kernelspec": {
      "name": "python3",
      "display_name": "Python 3"
    },
    "language_info": {
      "name": "python"
    }
  },
  "cells": [
    {
      "cell_type": "code",
      "source": [
        "# Check the first few lines of the file\n",
        "file_path = 'insurance_data.txt'\n",
        "with open(file_path, 'r') as file:\n",
        "    for i in range(5):  # Read first 5 lines\n",
        "        print(file.readline().strip())"
      ],
      "metadata": {
        "colab": {
          "base_uri": "https://localhost:8080/"
        },
        "id": "s-JjEJ9gQZeW",
        "outputId": "146fa0a3-7cc8-419f-8167-66a5c6d0817d"
      },
      "execution_count": 4,
      "outputs": [
        {
          "output_type": "stream",
          "name": "stdout",
          "text": [
            "UnderwrittenCoverID|PolicyID|TransactionMonth|IsVATRegistered|Citizenship|LegalType|Title|Language|Bank|AccountType|MaritalStatus|Gender|Country|Province|PostalCode|MainCrestaZone|SubCrestaZone|ItemType|mmcode|VehicleType|RegistrationYear|make|Model|Cylinders|cubiccapacity|kilowatts|bodytype|NumberOfDoors|VehicleIntroDate|CustomValueEstimate|AlarmImmobiliser|TrackingDevice|CapitalOutstanding|NewVehicle|WrittenOff|Rebuilt|Converted|CrossBorder|NumberOfVehiclesInFleet|SumInsured|TermFrequency|CalculatedPremiumPerTerm|ExcessSelected|CoverCategory|CoverType|CoverGroup|Section|Product|StatutoryClass|StatutoryRiskType|TotalPremium|TotalClaims\n",
            "145249|12827|2015-03-01 00:00:00|True|  |Close Corporation|Mr|English|First National Bank|Current account|Not specified|Not specified|South Africa|Gauteng|1459|Rand East|Rand East|Mobility - Motor|44069150|Passenger Vehicle|2004|MERCEDES-BENZ|E 240|6|2597|130|S/D|4|6/2002|119300|Yes|No|119300|More than 6 months||||||0.01|Monthly|25|Mobility - Windscreen|Windscreen|Windscreen|Comprehensive - Taxi|Motor Comprehensive|Mobility Metered Taxis: Monthly|Commercial|IFRS Constant|21.929824561403|.000000000000\n",
            "145249|12827|2015-05-01 00:00:00|True|  |Close Corporation|Mr|English|First National Bank|Current account|Not specified|Not specified|South Africa|Gauteng|1459|Rand East|Rand East|Mobility - Motor|44069150|Passenger Vehicle|2004|MERCEDES-BENZ|E 240|6|2597|130|S/D|4|6/2002|119300|Yes|No|119300|More than 6 months||||||0.01|Monthly|25|Mobility - Windscreen|Windscreen|Windscreen|Comprehensive - Taxi|Motor Comprehensive|Mobility Metered Taxis: Monthly|Commercial|IFRS Constant|21.929824561403|.000000000000\n",
            "145249|12827|2015-07-01 00:00:00|True|  |Close Corporation|Mr|English|First National Bank|Current account|Not specified|Not specified|South Africa|Gauteng|1459|Rand East|Rand East|Mobility - Motor|44069150|Passenger Vehicle|2004|MERCEDES-BENZ|E 240|6|2597|130|S/D|4|6/2002|119300|Yes|No|119300|More than 6 months||||||0.01|Monthly|25|Mobility - Windscreen|Windscreen|Windscreen|Comprehensive - Taxi|Motor Comprehensive|Mobility Metered Taxis: Monthly|Commercial|IFRS Constant|.000000000000|.000000000000\n",
            "145255|12827|2015-05-01 00:00:00|True|  |Close Corporation|Mr|English|First National Bank|Current account|Not specified|Not specified|South Africa|Gauteng|1459|Rand East|Rand East|Mobility - Motor|44069150|Passenger Vehicle|2004|MERCEDES-BENZ|E 240|6|2597|130|S/D|4|6/2002|119300|Yes|No|119300|More than 6 months||||||119300|Monthly|584.6468|Mobility - Metered Taxis - R2000|Own damage|Own Damage|Comprehensive - Taxi|Motor Comprehensive|Mobility Metered Taxis: Monthly|Commercial|IFRS Constant|512.848070175439|.000000000000\n"
          ]
        }
      ]
    },
    {
      "cell_type": "code",
      "source": [
        "import pandas as pd\n",
        "\n",
        "# Try different delimiters\n",
        "try:\n",
        "    # Attempt comma-separated (default)\n",
        "    data = pd.read_csv(file_path)\n",
        "    print(data.head())\n",
        "except:\n",
        "    try:\n",
        "        # Attempt tab-separated\n",
        "        data = pd.read_csv(file_path, sep='\\t')\n",
        "        print(data.head())\n",
        "    except:\n",
        "        try:\n",
        "            # Attempt space-separated\n",
        "            data = pd.read_csv(file_path, sep='\\s+', engine='python')\n",
        "            print(data.head())\n",
        "        except:\n",
        "            # Try specifying encoding\n",
        "            data = pd.read_csv(file_path, encoding='latin1')\n",
        "            print(data.head())"
      ],
      "metadata": {
        "colab": {
          "base_uri": "https://localhost:8080/"
        },
        "id": "VPZqhqZvQvf8",
        "outputId": "bd062c1f-52be-480e-a205-936207abc6c2"
      },
      "execution_count": 5,
      "outputs": [
        {
          "output_type": "stream",
          "name": "stdout",
          "text": [
            "  UnderwrittenCoverID|PolicyID|TransactionMonth|IsVATRegistered|Citizenship|LegalType|Title|Language|Bank|AccountType|MaritalStatus|Gender|Country|Province|PostalCode|MainCrestaZone|SubCrestaZone|ItemType|mmcode|VehicleType|RegistrationYear|make|Model|Cylinders|cubiccapacity|kilowatts|bodytype|NumberOfDoors|VehicleIntroDate|CustomValueEstimate|AlarmImmobiliser|TrackingDevice|CapitalOutstanding|NewVehicle|WrittenOff|Rebuilt|Converted|CrossBorder|NumberOfVehiclesInFleet|SumInsured|TermFrequency|CalculatedPremiumPerTerm|ExcessSelected|CoverCategory|CoverType|CoverGroup|Section|Product|StatutoryClass|StatutoryRiskType|TotalPremium|TotalClaims\n",
            "0  145249|12827|2015-03-01 00:00:00|True|  |Close...                                                                                                                                                                                                                                                                                                                                                                                                                                                                                                                                                                                                                  \n",
            "1  145249|12827|2015-05-01 00:00:00|True|  |Close...                                                                                                                                                                                                                                                                                                                                                                                                                                                                                                                                                                                                                  \n",
            "2  145249|12827|2015-07-01 00:00:00|True|  |Close...                                                                                                                                                                                                                                                                                                                                                                                                                                                                                                                                                                                                                  \n",
            "3  145255|12827|2015-05-01 00:00:00|True|  |Close...                                                                                                                                                                                                                                                                                                                                                                                                                                                                                                                                                                                                                  \n",
            "4  145255|12827|2015-07-01 00:00:00|True|  |Close...                                                                                                                                                                                                                                                                                                                                                                                                                                                                                                                                                                                                                  \n"
          ]
        }
      ]
    },
    {
      "cell_type": "code",
      "source": [
        "import pandas as pd\n",
        "\n",
        "# Load the data\n",
        "file_path = 'insurance_data.txt'\n",
        "data = pd.read_csv(file_path, sep='|')\n",
        "\n",
        "# Verify the data\n",
        "print(data.head())\n",
        "print(data.info())\n",
        "print(data.isnull().sum())  # Check for missing values"
      ],
      "metadata": {
        "colab": {
          "base_uri": "https://localhost:8080/",
          "height": 0
        },
        "id": "TudS3GdqSKEi",
        "outputId": "ebab8d6a-6ef1-4182-dc56-d2e6d4a34198"
      },
      "execution_count": 8,
      "outputs": [
        {
          "output_type": "stream",
          "name": "stderr",
          "text": [
            "/tmp/ipython-input-8-3478930124.py:5: DtypeWarning: Columns (32,37) have mixed types. Specify dtype option on import or set low_memory=False.\n",
            "  data = pd.read_csv(file_path, sep='|')\n"
          ]
        },
        {
          "output_type": "stream",
          "name": "stdout",
          "text": [
            "   UnderwrittenCoverID  PolicyID     TransactionMonth  IsVATRegistered  \\\n",
            "0               145249     12827  2015-03-01 00:00:00             True   \n",
            "1               145249     12827  2015-05-01 00:00:00             True   \n",
            "2               145249     12827  2015-07-01 00:00:00             True   \n",
            "3               145255     12827  2015-05-01 00:00:00             True   \n",
            "4               145255     12827  2015-07-01 00:00:00             True   \n",
            "\n",
            "  Citizenship          LegalType Title Language                 Bank  \\\n",
            "0              Close Corporation    Mr  English  First National Bank   \n",
            "1              Close Corporation    Mr  English  First National Bank   \n",
            "2              Close Corporation    Mr  English  First National Bank   \n",
            "3              Close Corporation    Mr  English  First National Bank   \n",
            "4              Close Corporation    Mr  English  First National Bank   \n",
            "\n",
            "       AccountType  ...                    ExcessSelected CoverCategory  \\\n",
            "0  Current account  ...             Mobility - Windscreen    Windscreen   \n",
            "1  Current account  ...             Mobility - Windscreen    Windscreen   \n",
            "2  Current account  ...             Mobility - Windscreen    Windscreen   \n",
            "3  Current account  ...  Mobility - Metered Taxis - R2000    Own damage   \n",
            "4  Current account  ...  Mobility - Metered Taxis - R2000    Own damage   \n",
            "\n",
            "    CoverType            CoverGroup              Section  \\\n",
            "0  Windscreen  Comprehensive - Taxi  Motor Comprehensive   \n",
            "1  Windscreen  Comprehensive - Taxi  Motor Comprehensive   \n",
            "2  Windscreen  Comprehensive - Taxi  Motor Comprehensive   \n",
            "3  Own Damage  Comprehensive - Taxi  Motor Comprehensive   \n",
            "4  Own Damage  Comprehensive - Taxi  Motor Comprehensive   \n",
            "\n",
            "                           Product StatutoryClass StatutoryRiskType  \\\n",
            "0  Mobility Metered Taxis: Monthly     Commercial     IFRS Constant   \n",
            "1  Mobility Metered Taxis: Monthly     Commercial     IFRS Constant   \n",
            "2  Mobility Metered Taxis: Monthly     Commercial     IFRS Constant   \n",
            "3  Mobility Metered Taxis: Monthly     Commercial     IFRS Constant   \n",
            "4  Mobility Metered Taxis: Monthly     Commercial     IFRS Constant   \n",
            "\n",
            "   TotalPremium TotalClaims  \n",
            "0     21.929825         0.0  \n",
            "1     21.929825         0.0  \n",
            "2      0.000000         0.0  \n",
            "3    512.848070         0.0  \n",
            "4      0.000000         0.0  \n",
            "\n",
            "[5 rows x 52 columns]\n",
            "<class 'pandas.core.frame.DataFrame'>\n",
            "RangeIndex: 1000098 entries, 0 to 1000097\n",
            "Data columns (total 52 columns):\n",
            " #   Column                    Non-Null Count    Dtype  \n",
            "---  ------                    --------------    -----  \n",
            " 0   UnderwrittenCoverID       1000098 non-null  int64  \n",
            " 1   PolicyID                  1000098 non-null  int64  \n",
            " 2   TransactionMonth          1000098 non-null  object \n",
            " 3   IsVATRegistered           1000098 non-null  bool   \n",
            " 4   Citizenship               1000098 non-null  object \n",
            " 5   LegalType                 1000098 non-null  object \n",
            " 6   Title                     1000098 non-null  object \n",
            " 7   Language                  1000098 non-null  object \n",
            " 8   Bank                      854137 non-null   object \n",
            " 9   AccountType               959866 non-null   object \n",
            " 10  MaritalStatus             991839 non-null   object \n",
            " 11  Gender                    990562 non-null   object \n",
            " 12  Country                   1000098 non-null  object \n",
            " 13  Province                  1000098 non-null  object \n",
            " 14  PostalCode                1000098 non-null  int64  \n",
            " 15  MainCrestaZone            1000098 non-null  object \n",
            " 16  SubCrestaZone             1000098 non-null  object \n",
            " 17  ItemType                  1000098 non-null  object \n",
            " 18  mmcode                    999546 non-null   float64\n",
            " 19  VehicleType               999546 non-null   object \n",
            " 20  RegistrationYear          1000098 non-null  int64  \n",
            " 21  make                      999546 non-null   object \n",
            " 22  Model                     999546 non-null   object \n",
            " 23  Cylinders                 999546 non-null   float64\n",
            " 24  cubiccapacity             999546 non-null   float64\n",
            " 25  kilowatts                 999546 non-null   float64\n",
            " 26  bodytype                  999546 non-null   object \n",
            " 27  NumberOfDoors             999546 non-null   float64\n",
            " 28  VehicleIntroDate          999546 non-null   object \n",
            " 29  CustomValueEstimate       220456 non-null   float64\n",
            " 30  AlarmImmobiliser          1000098 non-null  object \n",
            " 31  TrackingDevice            1000098 non-null  object \n",
            " 32  CapitalOutstanding        1000096 non-null  object \n",
            " 33  NewVehicle                846803 non-null   object \n",
            " 34  WrittenOff                358197 non-null   object \n",
            " 35  Rebuilt                   358197 non-null   object \n",
            " 36  Converted                 358197 non-null   object \n",
            " 37  CrossBorder               698 non-null      object \n",
            " 38  NumberOfVehiclesInFleet   0 non-null        float64\n",
            " 39  SumInsured                1000098 non-null  float64\n",
            " 40  TermFrequency             1000098 non-null  object \n",
            " 41  CalculatedPremiumPerTerm  1000098 non-null  float64\n",
            " 42  ExcessSelected            1000098 non-null  object \n",
            " 43  CoverCategory             1000098 non-null  object \n",
            " 44  CoverType                 1000098 non-null  object \n",
            " 45  CoverGroup                1000098 non-null  object \n",
            " 46  Section                   1000098 non-null  object \n",
            " 47  Product                   1000098 non-null  object \n",
            " 48  StatutoryClass            1000098 non-null  object \n",
            " 49  StatutoryRiskType         1000098 non-null  object \n",
            " 50  TotalPremium              1000098 non-null  float64\n",
            " 51  TotalClaims               1000098 non-null  float64\n",
            "dtypes: bool(1), float64(11), int64(4), object(36)\n",
            "memory usage: 390.1+ MB\n",
            "None\n",
            "UnderwrittenCoverID               0\n",
            "PolicyID                          0\n",
            "TransactionMonth                  0\n",
            "IsVATRegistered                   0\n",
            "Citizenship                       0\n",
            "LegalType                         0\n",
            "Title                             0\n",
            "Language                          0\n",
            "Bank                         145961\n",
            "AccountType                   40232\n",
            "MaritalStatus                  8259\n",
            "Gender                         9536\n",
            "Country                           0\n",
            "Province                          0\n",
            "PostalCode                        0\n",
            "MainCrestaZone                    0\n",
            "SubCrestaZone                     0\n",
            "ItemType                          0\n",
            "mmcode                          552\n",
            "VehicleType                     552\n",
            "RegistrationYear                  0\n",
            "make                            552\n",
            "Model                           552\n",
            "Cylinders                       552\n",
            "cubiccapacity                   552\n",
            "kilowatts                       552\n",
            "bodytype                        552\n",
            "NumberOfDoors                   552\n",
            "VehicleIntroDate                552\n",
            "CustomValueEstimate          779642\n",
            "AlarmImmobiliser                  0\n",
            "TrackingDevice                    0\n",
            "CapitalOutstanding                2\n",
            "NewVehicle                   153295\n",
            "WrittenOff                   641901\n",
            "Rebuilt                      641901\n",
            "Converted                    641901\n",
            "CrossBorder                  999400\n",
            "NumberOfVehiclesInFleet     1000098\n",
            "SumInsured                        0\n",
            "TermFrequency                     0\n",
            "CalculatedPremiumPerTerm          0\n",
            "ExcessSelected                    0\n",
            "CoverCategory                     0\n",
            "CoverType                         0\n",
            "CoverGroup                        0\n",
            "Section                           0\n",
            "Product                           0\n",
            "StatutoryClass                    0\n",
            "StatutoryRiskType                 0\n",
            "TotalPremium                      0\n",
            "TotalClaims                       0\n",
            "dtype: int64\n"
          ]
        }
      ]
    },
    {
      "cell_type": "code",
      "source": [
        "import pandas as pd\n",
        "from sklearn.preprocessing import LabelEncoder, StandardScaler\n",
        "\n",
        "# Load data\n",
        "file_path = 'insurance_data.txt'\n",
        "data = pd.read_csv(file_path, sep='|', low_memory=False)\n",
        "\n",
        "# Drop columns with >50% missing values\n",
        "missing_percent = data.isnull().mean() * 100\n",
        "cols_to_drop = missing_percent[missing_percent > 50].index\n",
        "data = data.drop(columns=cols_to_drop)\n",
        "\n",
        "# Handle remaining missing values\n",
        "numerical_cols = data.select_dtypes(include=['int64', 'float64']).columns\n",
        "for col in numerical_cols:\n",
        "    data[col] = data[col].fillna(data[col].median())\n",
        "\n",
        "categorical_cols = data.select_dtypes(include=['object', 'bool']).columns\n",
        "for col in categorical_cols:\n",
        "    data[col] = data[col].fillna(data[col].mode()[0])\n",
        "\n",
        "# Convert CapitalOutstanding to numeric\n",
        "data['CapitalOutstanding'] = pd.to_numeric(data['CapitalOutstanding'], errors='coerce')\n",
        "data['CapitalOutstanding'] = data['CapitalOutstanding'].fillna(data['CapitalOutstanding'].median())\n",
        "\n",
        "# Parse TransactionMonth\n",
        "data['TransactionMonth'] = pd.to_datetime(data['TransactionMonth'])\n",
        "data['Year'] = data['TransactionMonth'].dt.year\n",
        "data['Month'] = data['TransactionMonth'].dt.month\n",
        "data = data.drop(columns=['TransactionMonth'])\n",
        "\n",
        "# Encode categorical variables\n",
        "le = LabelEncoder()\n",
        "for col in categorical_cols:\n",
        "    if col in data.columns:\n",
        "        data[col] = le.fit_transform(data[col])\n",
        "\n",
        "# Define features and target\n",
        "X = data.drop(['TotalPremium', 'TotalClaims'], axis=1)\n",
        "y = data['TotalPremium']\n",
        "\n",
        "# Scale numerical features\n",
        "scaler = StandardScaler()\n",
        "num_cols_to_scale = numerical_cols.drop(['TotalPremium', 'TotalClaims'])\n",
        "X[num_cols_to_scale] = scaler.fit_transform(X[num_cols_to_scale])"
      ],
      "metadata": {
        "id": "U1lwbUu6fjym"
      },
      "execution_count": 8,
      "outputs": []
    },
    {
      "cell_type": "code",
      "source": [],
      "metadata": {
        "id": "ggGSMXfGfjZl"
      },
      "execution_count": null,
      "outputs": []
    },
    {
      "cell_type": "code",
      "source": [
        "from sklearn.model_selection import train_test_split\n",
        "from sklearn.linear_model import LinearRegression\n",
        "\n",
        "# Split data\n",
        "X_train, X_test, y_train, y_test = train_test_split(X, y, test_size=0.2, random_state=42)\n",
        "\n",
        "# Train model\n",
        "model = LinearRegression()\n",
        "model.fit(X_train, y_train)\n",
        "\n",
        "# Predict\n",
        "y_pred = model.predict(X_test)"
      ],
      "metadata": {
        "id": "UH8JD06EX5kq"
      },
      "execution_count": 10,
      "outputs": []
    },
    {
      "cell_type": "code",
      "source": [
        "import pandas as pd\n",
        "from sklearn.preprocessing import LabelEncoder, StandardScaler\n",
        "\n",
        "# Load data\n",
        "file_path = 'insurance_data.txt'\n",
        "data = pd.read_csv(file_path, sep='|', low_memory=False)\n",
        "\n",
        "# Manually drop columns with >50% missing values based on prior info\n",
        "cols_to_drop = ['NumberOfVehiclesInFleet', 'CrossBorder', 'WrittenOff', 'Rebuilt', 'Converted', 'CustomValueEstimate']\n",
        "data = data.drop(columns=cols_to_drop)\n",
        "print(f\"Dropped columns: {cols_to_drop}\")\n",
        "\n",
        "# Handle remaining missing values\n",
        "numerical_cols = data.select_dtypes(include=['int64', 'float64']).columns\n",
        "for col in numerical_cols:\n",
        "    data[col] = data[col].fillna(data[col].median())\n",
        "\n",
        "categorical_cols = data.select_dtypes(include=['object', 'bool']).columns\n",
        "for col in categorical_cols:\n",
        "    data[col] = data[col].fillna(data[col].mode()[0])\n",
        "\n",
        "# Convert CapitalOutstanding to numeric\n",
        "data['CapitalOutstanding'] = pd.to_numeric(data['CapitalOutstanding'], errors='coerce')\n",
        "data['CapitalOutstanding'] = data['CapitalOutstanding'].fillna(data['CapitalOutstanding'].median())\n",
        "\n",
        "# Parse TransactionMonth\n",
        "data['TransactionMonth'] = pd.to_datetime(data['TransactionMonth'])\n",
        "data['Year'] = data['TransactionMonth'].dt.year\n",
        "data['Month'] = data['TransactionMonth'].dt.month\n",
        "data = data.drop(columns=['TransactionMonth'])\n",
        "\n",
        "# Encode categorical variables\n",
        "le = LabelEncoder()\n",
        "for col in categorical_cols:\n",
        "    if col in data.columns:\n",
        "        data[col] = le.fit_transform(data[col])\n",
        "\n",
        "# Define features and target\n",
        "X = data.drop(['TotalPremium', 'TotalClaims'], axis=1)\n",
        "y = data['TotalPremium']\n",
        "\n",
        "# Scale numerical features\n",
        "scaler = StandardScaler()\n",
        "num_cols_to_scale = numerical_cols.drop(['TotalPremium', 'TotalClaims'])\n",
        "X[num_cols_to_scale] = scaler.fit_transform(X[num_cols_to_scale])"
      ],
      "metadata": {
        "colab": {
          "base_uri": "https://localhost:8080/"
        },
        "id": "viO4q6DBgZlv",
        "outputId": "27b9d867-3796-4dd5-fa46-8c0fedd6e786"
      },
      "execution_count": 9,
      "outputs": [
        {
          "output_type": "stream",
          "name": "stdout",
          "text": [
            "Dropped columns: ['NumberOfVehiclesInFleet', 'CrossBorder', 'WrittenOff', 'Rebuilt', 'Converted', 'CustomValueEstimate']\n"
          ]
        }
      ]
    },
    {
      "cell_type": "code",
      "source": [
        "from sklearn.metrics import mean_absolute_error\n",
        "mae = mean_absolute_error(y_test, y_pred)\n",
        "print(f\"Mean Absolute Error: {mae:.2f}\")"
      ],
      "metadata": {
        "colab": {
          "base_uri": "https://localhost:8080/",
          "height": 0
        },
        "id": "GB9fgyiAZLgL",
        "outputId": "44b2f74d-8107-48df-9696-245c17e9ae56"
      },
      "execution_count": 11,
      "outputs": [
        {
          "output_type": "stream",
          "name": "stdout",
          "text": [
            "Mean Absolute Error: 56.80\n"
          ]
        }
      ]
    },
    {
      "cell_type": "code",
      "source": [
        "from sklearn.model_selection import train_test_split\n",
        "\n",
        "X_train, X_test, y_train, y_test = train_test_split(X, y, test_size=0.2, random_state=42)"
      ],
      "metadata": {
        "id": "RzLO0X1ghXF9"
      },
      "execution_count": 10,
      "outputs": []
    },
    {
      "cell_type": "code",
      "source": [
        "from sklearn.ensemble import RandomForestRegressor\n",
        "from sklearn.metrics import mean_squared_error, r2_score\n",
        "import numpy as np\n",
        "\n",
        "# Train Random Forest\n",
        "rf_model = RandomForestRegressor(n_estimators=100, random_state=42)\n",
        "rf_model.fit(X_train, y_train)\n",
        "\n",
        "# Predict\n",
        "rf_pred = rf_model.predict(X_test)\n",
        "\n",
        "# Evaluate\n",
        "rf_mse = mean_squared_error(y_test, rf_pred)\n",
        "rf_rmse = np.sqrt(rf_mse)\n",
        "rf_r2 = r2_score(y_test, rf_pred)\n",
        "\n",
        "print(f\"Random Forest - Mean Squared Error: {rf_mse:.2f}\")\n",
        "print(f\"Random Forest - Root Mean Squared Error: {rf_rmse:.2f}\")\n",
        "print(f\"Random Forest - R² Score: {rf_r2:.2f}\")"
      ],
      "metadata": {
        "colab": {
          "base_uri": "https://localhost:8080/"
        },
        "id": "V9svKgr8hbvi",
        "outputId": "84bf554b-9145-40ee-e5a3-8f0e68376db3"
      },
      "execution_count": 11,
      "outputs": [
        {
          "output_type": "stream",
          "name": "stdout",
          "text": [
            "Random Forest - Mean Squared Error: 3074.71\n",
            "Random Forest - Root Mean Squared Error: 55.45\n",
            "Random Forest - R² Score: 0.89\n"
          ]
        }
      ]
    },
    {
      "cell_type": "code",
      "source": [
        "import matplotlib.pyplot as plt\n",
        "\n",
        "plt.scatter(y_test, y_pred, alpha=0.6, color='blue', label='Predictions')\n",
        "plt.plot([y_test.min(), y_test.max()], [y_test.min(), y_test.max()], 'r--', label='Perfect Prediction')\n",
        "plt.xlabel('Actual TotalPremium')\n",
        "plt.ylabel('Predicted TotalPremium')\n",
        "plt.title('Actual vs Predicted TotalPremium')\n",
        "plt.legend()\n",
        "plt.show()"
      ],
      "metadata": {
        "colab": {
          "base_uri": "https://localhost:8080/",
          "height": 529
        },
        "id": "BjLD8QGIZhhB",
        "outputId": "0b84ea7f-e38a-4325-8c07-f4f751623ea5"
      },
      "execution_count": 12,
      "outputs": [
        {
          "output_type": "stream",
          "name": "stderr",
          "text": [
            "/usr/local/lib/python3.11/dist-packages/IPython/core/pylabtools.py:151: UserWarning: Creating legend with loc=\"best\" can be slow with large amounts of data.\n",
            "  fig.canvas.print_figure(bytes_io, **kw)\n"
          ]
        },
        {
          "output_type": "display_data",
          "data": {
            "text/plain": [
              "<Figure size 640x480 with 1 Axes>"
            ],
            "image/png": "[encoded data removed]"
          },
          "metadata": {}
        }
      ]
    },
    {
      "cell_type": "code",
      "source": [
        "from sklearn.metrics import mean_squared_error, r2_score\n",
        "import numpy as np\n",
        "\n",
        "# Assuming y_test and y_pred are available from the previous split and prediction\n",
        "mse = mean_squared_error(y_test, y_pred)\n",
        "rmse = np.sqrt(mse)\n",
        "r2 = r2_score(y_test, y_pred)\n",
        "\n",
        "print(f\"Mean Squared Error: {mse:.2f}\")\n",
        "print(f\"Root Mean Squared Error: {rmse:.2f}\")\n",
        "print(f\"R² Score: {r2:.2f}\")"
      ],
      "metadata": {
        "colab": {
          "base_uri": "https://localhost:8080/",
          "height": 0
        },
        "id": "1Et17mePbWsK",
        "outputId": "537f0bf6-393b-4948-f9e4-e3d66f01df20"
      },
      "execution_count": 13,
      "outputs": [
        {
          "output_type": "stream",
          "name": "stdout",
          "text": [
            "Mean Squared Error: 15790.54\n",
            "Root Mean Squared Error: 125.66\n",
            "R² Score: 0.43\n"
          ]
        }
      ]
    },
    {
      "cell_type": "code",
      "source": [
        "import pandas as pd\n",
        "from sklearn.preprocessing import LabelEncoder, StandardScaler\n",
        "\n",
        "# Load data\n",
        "file_path = 'insurance_data.txt'\n",
        "data = pd.read_csv(file_path, sep='|', low_memory=False)\n",
        "\n",
        "# Verify initial columns\n",
        "print(f\"Initial columns: {data.columns.tolist()}\")\n",
        "\n",
        "# Parse TransactionMonth (already done in your output, confirming 'Year' and 'Month')\n",
        "data['TransactionMonth'] = pd.to_datetime(data['TransactionMonth'])\n",
        "data['Year'] = data['TransactionMonth'].dt.year\n",
        "data['Month'] = data['TransactionMonth'].dt.month\n",
        "data = data.drop(columns=['TransactionMonth'])\n",
        "\n",
        "# Handle missing values\n",
        "numerical_cols = data.select_dtypes(include=['int64', 'float64']).columns\n",
        "for col in numerical_cols:\n",
        "    data[col] = data[col].fillna(data[col].median())\n",
        "\n",
        "categorical_cols = data.select_dtypes(include=['object', 'bool']).columns\n",
        "for col in categorical_cols:\n",
        "    data[col] = data[col].fillna(data[col].mode()[0])\n",
        "\n",
        "# Convert CapitalOutstanding to numeric\n",
        "data['CapitalOutstanding'] = pd.to_numeric(data['CapitalOutstanding'], errors='coerce')\n",
        "data['CapitalOutstanding'] = data['CapitalOutstanding'].fillna(data['CapitalOutstanding'].median())\n",
        "\n",
        "# Encode categorical variables\n",
        "le = LabelEncoder()\n",
        "for col in categorical_cols:\n",
        "    if col in data.columns:\n",
        "        data[col] = le.fit_transform(data[col])\n",
        "\n",
        "# Define features and target\n",
        "X = data.drop(['TotalPremium', 'TotalClaims'], axis=1)\n",
        "y = data['TotalPremium']\n",
        "\n",
        "# Scale numerical features\n",
        "scaler = StandardScaler()\n",
        "num_cols_to_scale = numerical_cols.drop(['TotalPremium', 'TotalClaims'])\n",
        "X[num_cols_to_scale] = scaler.fit_transform(X[num_cols_to_scale])\n",
        "\n",
        "# Verify processed columns\n",
        "print(f\"Processed columns in X: {X.columns.tolist()}\")"
      ],
      "metadata": {
        "colab": {
          "base_uri": "https://localhost:8080/"
        },
        "id": "HuGM_o5_r9YN",
        "outputId": "a444394a-02a1-4fd1-8ccd-6a40ba5659fb"
      },
      "execution_count": 14,
      "outputs": [
        {
          "output_type": "stream",
          "name": "stdout",
          "text": [
            "Initial columns: ['UnderwrittenCoverID', 'PolicyID', 'TransactionMonth', 'IsVATRegistered', 'Citizenship', 'LegalType', 'Title', 'Language', 'Bank', 'AccountType', 'MaritalStatus', 'Gender', 'Country', 'Province', 'PostalCode', 'MainCrestaZone', 'SubCrestaZone', 'ItemType', 'mmcode', 'VehicleType', 'RegistrationYear', 'make', 'Model', 'Cylinders', 'cubiccapacity', 'kilowatts', 'bodytype', 'NumberOfDoors', 'VehicleIntroDate', 'CustomValueEstimate', 'AlarmImmobiliser', 'TrackingDevice', 'CapitalOutstanding', 'NewVehicle', 'WrittenOff', 'Rebuilt', 'Converted', 'CrossBorder', 'NumberOfVehiclesInFleet', 'SumInsured', 'TermFrequency', 'CalculatedPremiumPerTerm', 'ExcessSelected', 'CoverCategory', 'CoverType', 'CoverGroup', 'Section', 'Product', 'StatutoryClass', 'StatutoryRiskType', 'TotalPremium', 'TotalClaims']\n"
          ]
        },
        {
          "output_type": "stream",
          "name": "stderr",
          "text": [
            "/usr/local/lib/python3.11/dist-packages/sklearn/utils/extmath.py:1101: RuntimeWarning: invalid value encountered in divide\n",
            "  updated_mean = (last_sum + new_sum) / updated_sample_count\n",
            "/usr/local/lib/python3.11/dist-packages/sklearn/utils/extmath.py:1106: RuntimeWarning: invalid value encountered in divide\n",
            "  T = new_sum / new_sample_count\n"
          ]
        },
        {
          "output_type": "stream",
          "name": "stdout",
          "text": [
            "Processed columns in X: ['UnderwrittenCoverID', 'PolicyID', 'IsVATRegistered', 'Citizenship', 'LegalType', 'Title', 'Language', 'Bank', 'AccountType', 'MaritalStatus', 'Gender', 'Country', 'Province', 'PostalCode', 'MainCrestaZone', 'SubCrestaZone', 'ItemType', 'mmcode', 'VehicleType', 'RegistrationYear', 'make', 'Model', 'Cylinders', 'cubiccapacity', 'kilowatts', 'bodytype', 'NumberOfDoors', 'VehicleIntroDate', 'CustomValueEstimate', 'AlarmImmobiliser', 'TrackingDevice', 'CapitalOutstanding', 'NewVehicle', 'WrittenOff', 'Rebuilt', 'Converted', 'CrossBorder', 'NumberOfVehiclesInFleet', 'SumInsured', 'TermFrequency', 'CalculatedPremiumPerTerm', 'ExcessSelected', 'CoverCategory', 'CoverType', 'CoverGroup', 'Section', 'Product', 'StatutoryClass', 'StatutoryRiskType', 'Year', 'Month']\n"
          ]
        },
        {
          "output_type": "stream",
          "name": "stderr",
          "text": [
            "/usr/local/lib/python3.11/dist-packages/sklearn/utils/extmath.py:1126: RuntimeWarning: invalid value encountered in divide\n",
            "  new_unnormalized_variance -= correction**2 / new_sample_count\n"
          ]
        }
      ]
    },
    {
      "cell_type": "markdown",
      "source": [],
      "metadata": {
        "id": "_TOcaw1hwDKW"
      }
    },
    {
      "cell_type": "code",
      "source": [
        "from sklearn.model_selection import train_test_split\n",
        "\n",
        "X_train, X_test, y_train, y_test = train_test_split(X, y, test_size=0.2, random_state=42)"
      ],
      "metadata": {
        "id": "PKD8Lzqps6hY"
      },
      "execution_count": 18,
      "outputs": []
    },
    {
      "cell_type": "code",
      "source": [
        "from sklearn.model_selection import train_test_split\n",
        "\n",
        "X_train, X_test, y_train, y_test = train_test_split(X, y, test_size=0.2, random_state=42)"
      ],
      "metadata": {
        "id": "r1mlXRsYvlhn"
      },
      "execution_count": 17,
      "outputs": []
    },
    {
      "cell_type": "code",
      "source": [
        "from sklearn.ensemble import RandomForestRegressor\n",
        "from sklearn.metrics import mean_squared_error, r2_score\n",
        "import numpy as np\n",
        "\n",
        "# Train Random Forest\n",
        "rf_model = RandomForestRegressor(n_estimators=100, random_state=42)\n",
        "rf_model.fit(X_train, y_train)\n",
        "\n",
        "# Predict\n",
        "rf_pred = rf_model.predict(X_test)\n",
        "\n",
        "# Evaluate\n",
        "rf_mse = mean_squared_error(y_test, rf_pred)\n",
        "rf_rmse = np.sqrt(rf_mse)\n",
        "rf_r2 = r2_score(y_test, rf_pred)\n",
        "\n",
        "print(f\"Random Forest - Mean Squared Error: {rf_mse:.2f}\")\n",
        "print(f\"Random Forest - Root Mean Squared Error: {rf_rmse:.2f}\")\n",
        "print(f\"Random Forest - R² Score: {rf_r2:.2f}\")"
      ],
      "metadata": {
        "colab": {
          "base_uri": "https://localhost:8080/"
        },
        "id": "SyvmIxWkuI8u",
        "outputId": "74deb397-8912-4b5b-9bbb-e9c3c278ae60"
      },
      "execution_count": 19,
      "outputs": [
        {
          "output_type": "stream",
          "name": "stdout",
          "text": [
            "Random Forest - Mean Squared Error: 3086.18\n",
            "Random Forest - Root Mean Squared Error: 55.55\n",
            "Random Forest - R² Score: 0.89\n"
          ]
        }
      ]
    },
    {
      "cell_type": "code",
      "source": [
        "import matplotlib.pyplot as plt\n",
        "\n",
        "plt.scatter(y_test, rf_pred, alpha=0.6, color='green', label='Random Forest Predictions')\n",
        "plt.plot([y_test.min(), y_test.max()], [y_test.min(), y_test.max()], 'r--', label='Perfect Prediction')\n",
        "plt.xlabel('Actual TotalPremium')\n",
        "plt.ylabel('Predicted TotalPremium')\n",
        "plt.title('Actual vs Predicted TotalPremium (Random Forest)')\n",
        "plt.legend()\n",
        "plt.show()"
      ],
      "metadata": {
        "colab": {
          "base_uri": "https://localhost:8080/",
          "height": 472
        },
        "id": "x4EJyopL2KJV",
        "outputId": "af42a3e0-cae8-4ab5-c46d-9f2da1226bb2"
      },
      "execution_count": 20,
      "outputs": [
        {
          "output_type": "display_data",
          "data": {
            "text/plain": [
              "<Figure size 640x480 with 1 Axes>"
            ],
            "image/png": "[encoded data removed]"
          },
          "metadata": {}
        }
      ]
    }
  ]
}